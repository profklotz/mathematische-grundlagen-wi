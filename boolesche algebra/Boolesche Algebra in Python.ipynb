{
 "cells": [
  {
   "cell_type": "markdown",
   "metadata": {
    "slideshow": {
     "slide_type": "slide"
    }
   },
   "source": [
    "# Boolesche Algebra in Python\n",
    "\n",
    "**Prof. Dr. David Klotz** \\\n",
    "Hochschule der Medien Stuttgart \\\n",
    "Studiengang Wirtschaftsinformatik und digitale Medien (Bachelor) \\\n",
    "Grundlagen der Wirtschaftsinformatik"
   ]
  },
  {
   "cell_type": "markdown",
   "metadata": {
    "slideshow": {
     "slide_type": "slide"
    }
   },
   "source": [
    "## Wahrheitswerte\n",
    "\n",
    "Python unterstützt die Verwendung von logischen Ausdrücken. Als Konstanten stehen zudem die beiden Wahrheitswerte `True` und `False` zur Verfügung."
   ]
  },
  {
   "cell_type": "code",
   "execution_count": 3,
   "metadata": {},
   "outputs": [
    {
     "data": {
      "text/plain": [
       "(True, False)"
      ]
     },
     "execution_count": 3,
     "metadata": {},
     "output_type": "execute_result"
    }
   ],
   "source": [
    "True, False"
   ]
  },
  {
   "cell_type": "markdown",
   "metadata": {
    "slideshow": {
     "slide_type": "subslide"
    }
   },
   "source": [
    "### Automatische Umwandlung in Wahrheitswerte\n",
    "\n",
    "Python wandelt Ausdrücke automatisch in Wahrheitswerte um, wenn es erforderlich ist. Der Ausdruck in einer `if`-Anweisung wird z.B. automatisch in einen Wahrheitswert konvertiert."
   ]
  },
  {
   "cell_type": "code",
   "execution_count": 4,
   "metadata": {},
   "outputs": [
    {
     "name": "stdout",
     "output_type": "stream",
     "text": [
      "A ist ungleich null.\n",
      "A ist auch hier ungleich null.\n"
     ]
    }
   ],
   "source": [
    "a = 42\n",
    "\n",
    "# Umwandlung durch Verwendung eines Vergleichoperators (hier: !=)\n",
    "if a != 0:\n",
    "    print('A ist ungleich null.')\n",
    "    \n",
    "# Automatische Umwandlung durch den Kontext (hier: if-Anweisung)\n",
    "if a:\n",
    "    print('A ist auch hier ungleich null.')"
   ]
  },
  {
   "cell_type": "markdown",
   "metadata": {
    "slideshow": {
     "slide_type": "subslide"
    }
   },
   "source": [
    "### Manuelle Umwandlung in Wahrheitswerte\n",
    "\n",
    "Wir können die eingebaute `bool()`-Funktion nutzen, um jeden beliebigen Ausdruck in einen Wahrheitswert zu verwandeln."
   ]
  },
  {
   "cell_type": "code",
   "execution_count": 5,
   "metadata": {},
   "outputs": [
    {
     "data": {
      "text/plain": [
       "True"
      ]
     },
     "execution_count": 5,
     "metadata": {},
     "output_type": "execute_result"
    }
   ],
   "source": [
    "a = 42\n",
    "bool(a)"
   ]
  },
  {
   "cell_type": "markdown",
   "metadata": {
    "slideshow": {
     "slide_type": "subslide"
    }
   },
   "source": [
    "### Umwandlungsregeln\n",
    "\n",
    "Als Daumenregel merken wir uns: Sobald ein Wert nicht Null oder leer ist, wird er `True`, andernfalls ist er `False`."
   ]
  },
  {
   "cell_type": "code",
   "execution_count": 17,
   "metadata": {},
   "outputs": [
    {
     "name": "stdout",
     "output_type": "stream",
     "text": [
      "None = False\n",
      "Ganzzahlen: 0 = False\n",
      "Fließkommazahlen: 0.0 = False\n",
      "Zeichenketten: \"\" = False\n",
      "Listen: [] = False\n",
      "Dictionary: {} = False\n"
     ]
    }
   ],
   "source": [
    "# Diese Werte sind alle `False`\n",
    "print(f'None = {bool(None)}')\n",
    "print(f'Ganzzahlen: 0 = {bool(0)}')\n",
    "print(f'Fließkommazahlen: 0.0 = {bool(0.0)}')\n",
    "print(f'Zeichenketten: \"\" = {bool(\"\")}')\n",
    "print(f'Listen: [] = {bool([])}')\n",
    "print(f'Dictionary: {{}} = {bool({})}')"
   ]
  },
  {
   "cell_type": "markdown",
   "metadata": {
    "slideshow": {
     "slide_type": "subslide"
    }
   },
   "source": [
    "### Umwandlungsregeln (Fortsetzung)\n",
    "\n",
    "Als Daumenregel merken wir uns: Sobald ein Wert nicht None, Null (mathematisch) oder leer ist, wird er `True`, andernfalls ist er `False`."
   ]
  },
  {
   "cell_type": "code",
   "execution_count": 15,
   "metadata": {},
   "outputs": [
    {
     "name": "stdout",
     "output_type": "stream",
     "text": [
      "Ganzzahlen: 5 = True\n",
      "Fließkommazahlen: 3.14 = True\n",
      "Zeichenketten: \"foo\" = True\n",
      "Listen: [\"foo\", \"bar\"] = True\n",
      "Dictionary: {\"foo\": \"bar\"} = True\n"
     ]
    }
   ],
   "source": [
    "# Diese Werte sind alle `True`, da sie einen Wert oder ein Element enthalten\n",
    "print(f'Ganzzahlen: 5 = {bool(5)}')\n",
    "print(f'Fließkommazahlen: 3.14 = {bool(3.14)}')\n",
    "print(f'Zeichenketten: \"foo\" = {bool(\"foo\")}')\n",
    "print(f'Listen: [\"foo\", \"bar\"] = {bool([\"foo\", \"bar\"])}')\n",
    "print(f'Dictionary: {{\"foo\": \"bar\"}} = {bool({\"foo\": \"bar\"})}')"
   ]
  },
  {
   "cell_type": "markdown",
   "metadata": {
    "slideshow": {
     "slide_type": "subslide"
    }
   },
   "source": [
    "### Umwandlungsregeln (Fortsetzung)\n",
    "\n",
    "Natürlich gibt es in Python auch ein paar weniger intuitive Umwandlungsregeln im Zusammenhang mit Zeichenketten, die man kennen sollte:\n",
    "\n",
    "(Einfach immer die Grundregel beachten: Ist etwas nicht leer, dann ist es `True`!)"
   ]
  },
  {
   "cell_type": "code",
   "execution_count": 2,
   "metadata": {},
   "outputs": [
    {
     "name": "stdout",
     "output_type": "stream",
     "text": [
      "Leerzeichen: \" \" = True\n",
      "Der String \"False\" = True\n",
      "Der String \"0\" = True\n"
     ]
    }
   ],
   "source": [
    "# Ein Leerzeichen ist `True` (und nicht `False`, wie vielleicht erwartet)\n",
    "print(f'Leerzeichen: \" \" = {bool(\" \")}')\n",
    "\n",
    "# Auch der String 'False' ist True\n",
    "print(f'Der String \"False\" = {bool(\"False\")}')\n",
    "\n",
    "# Und auch die Null als String ist True\n",
    "print(f'Der String \"0\" = {bool(\"0\")}')"
   ]
  },
  {
   "cell_type": "markdown",
   "metadata": {
    "slideshow": {
     "slide_type": "subslide"
    }
   },
   "source": [
    "### Umwandlung von Wahrheitswerten in andere Datentypen\n",
    "\n",
    "Wir können natürlich Wahrheitswerte auch wieder in andere Datentypen umwandeln. Die Umwandlung in Zeichenketten ist offensichtlich. Wenn wir in Zahlen umwandeln, wird `True` zu `1` (respektive `1.0`) und `False` zu `0` (respektive `0.0`)."
   ]
  },
  {
   "cell_type": "code",
   "execution_count": 18,
   "metadata": {},
   "outputs": [
    {
     "data": {
      "text/plain": [
       "('True', 'False', 1, 0, 1.0, 0.0)"
      ]
     },
     "execution_count": 18,
     "metadata": {},
     "output_type": "execute_result"
    }
   ],
   "source": [
    "str(True), str(False), int(True), int(False), float(True), float(False)"
   ]
  },
  {
   "cell_type": "markdown",
   "metadata": {
    "slideshow": {
     "slide_type": "subslide"
    }
   },
   "source": [
    "### Anwendungsbeispiel\n",
    "\n",
    "Wir haben im Rahmen der Vorlesung ja häufiger Aussagen über die Teilbarkeit von Zahlen gemacht. Diese lassen sich nun sehr einfach in Python abbilden. Zur Erinnerung: Der Modulo-Operator `%` liefert uns den ganzzahligen Rest einer Division.\n",
    "\n",
    "- Aussage A: 42 ist durch 5 teilbar.\n",
    "- Aussage B: 21 ist durch 3 teilbar.\n",
    "- Aussage C: 17 ist durch 7 teilbar."
   ]
  },
  {
   "cell_type": "code",
   "execution_count": 10,
   "metadata": {
    "slideshow": {
     "slide_type": "-"
    }
   },
   "outputs": [
    {
     "data": {
      "text/plain": [
       "(False, True, False)"
      ]
     },
     "execution_count": 10,
     "metadata": {},
     "output_type": "execute_result"
    }
   ],
   "source": [
    "A = 42 % 5 == 0\n",
    "B = 21 % 3 == 0\n",
    "C = 17 % 7 == 0\n",
    "A, B, C"
   ]
  },
  {
   "cell_type": "markdown",
   "metadata": {
    "slideshow": {
     "slide_type": "fragment"
    }
   },
   "source": [
    "Die Reihenfolge, in der Operatoren ausgewertet werden, ist in der [Python Dokumentation](https://docs.python.org/3/reference/expressions.html#operator-precedence) angegeben."
   ]
  },
  {
   "cell_type": "markdown",
   "metadata": {
    "slideshow": {
     "slide_type": "subslide"
    }
   },
   "source": [
    "### Übung: Umwandlung mit Wahrheitswerten\n",
    "\n",
    "Schau dir den nachfolgenden Python-Code an und überlege, was am Ende ausgegeben wird. Führe ihn danach aus, um deine Vermutung zu überprüfen."
   ]
  },
  {
   "cell_type": "code",
   "execution_count": null,
   "metadata": {},
   "outputs": [],
   "source": [
    "a = 27 % 9\n",
    "b = 18 * True\n",
    "c = bool(0) * 10\n",
    "\n",
    "(bool(a), a), (bool(b), b), (bool(c), c)"
   ]
  },
  {
   "cell_type": "markdown",
   "metadata": {
    "slideshow": {
     "slide_type": "slide"
    }
   },
   "source": [
    "## Operatoren mit Wahrheitswerten\n",
    "\n",
    "Python bietet uns einige Operatoren, die wir im Zusammenhang mit Wahrheitswerten verwenden können. Schauen wir uns zu Beginn die wichtigsten Operatoren der Booleschen Algebra, die Negation, Konjunktion und Disjunktion an."
   ]
  },
  {
   "cell_type": "markdown",
   "metadata": {
    "slideshow": {
     "slide_type": "subslide"
    }
   },
   "source": [
    "### Negation\n",
    "\n",
    "Die Negation kehrt einen Wahrheitswert um: aus `True` wird `False` und umgekehrt.\n",
    "\n",
    "In Python steht uns dafür der einstellige Operator `not` zur Verfügung."
   ]
  },
  {
   "cell_type": "code",
   "execution_count": 19,
   "metadata": {},
   "outputs": [
    {
     "data": {
      "text/plain": [
       "(False, True)"
      ]
     },
     "execution_count": 19,
     "metadata": {},
     "output_type": "execute_result"
    }
   ],
   "source": [
    "not True, not False"
   ]
  },
  {
   "cell_type": "markdown",
   "metadata": {
    "slideshow": {
     "slide_type": "subslide"
    }
   },
   "source": [
    "### Übung: Negation\n",
    "\n",
    "Schau dir den nachfolgenden Python-Code an und überlege, was am Ende ausgegeben wird. Führe es danach aus, um deine Vermutung zu überprüfen. "
   ]
  },
  {
   "cell_type": "code",
   "execution_count": null,
   "metadata": {},
   "outputs": [],
   "source": [
    "a = 42\n",
    "b = True\n",
    "c = not bool(a)\n",
    "\n",
    "not a, not not b, not c == a"
   ]
  },
  {
   "cell_type": "markdown",
   "metadata": {
    "slideshow": {
     "slide_type": "subslide"
    }
   },
   "source": [
    "### Konjunktion\n",
    "\n",
    "Für die Konjunktion, also das *logische UND*, steht uns der `and`-Operator zur Verfügung. Er ist zweistellig. "
   ]
  },
  {
   "cell_type": "code",
   "execution_count": 44,
   "metadata": {},
   "outputs": [
    {
     "name": "stdout",
     "output_type": "stream",
     "text": [
      "Wahrheitstabelle and-Operator\n",
      "\n",
      "A       B       A and B\n",
      "========================\n",
      "False   False   False   \n",
      "False   True    False   \n",
      "True    False   False   \n",
      "True    True    True    \n"
     ]
    }
   ],
   "source": [
    "print('Wahrheitstabelle and-Operator\\n')\n",
    "print('A       B       A and B')\n",
    "print('========================')\n",
    "for a in range(2):\n",
    "    for b in range(2):\n",
    "        print(f'{str(bool(a)):<8}{str(bool(b)):<8}{str(bool(a and b)):<8}')"
   ]
  },
  {
   "cell_type": "markdown",
   "metadata": {
    "slideshow": {
     "slide_type": "subslide"
    }
   },
   "source": [
    "### Konjunktion (Fortsetzung)\n",
    "\n",
    "Es ist wichtig, die Wirkungsweise des `and`-Operators genau zu verstehen: Er liefert immer einen der beiden gegebenen Ausdrücke zurück - und dies *ohne* ihn in einen Wahrheitswert umzuwandeln.\n",
    "\n",
    "Dafür wird zu erst der linke Ausdruck als Wahrheitswert ausgewertet:\n",
    "- Ist er `True`, dann wird der rechte Wert zurückgegeben\n",
    "- Ist er `False`, dann wird der linke Wert zurückgegeben"
   ]
  },
  {
   "cell_type": "code",
   "execution_count": 45,
   "metadata": {
    "slideshow": {
     "slide_type": "-"
    }
   },
   "outputs": [
    {
     "data": {
      "text/plain": [
       "'Foo'"
      ]
     },
     "execution_count": 45,
     "metadata": {},
     "output_type": "execute_result"
    }
   ],
   "source": [
    "# Liefert den rechten Wert (eine Zeichenkette)\n",
    "1 and 'Foo'"
   ]
  },
  {
   "cell_type": "code",
   "execution_count": 47,
   "metadata": {
    "slideshow": {
     "slide_type": "-"
    }
   },
   "outputs": [
    {
     "data": {
      "text/plain": [
       "0"
      ]
     },
     "execution_count": 47,
     "metadata": {},
     "output_type": "execute_result"
    }
   ],
   "source": [
    "# Liefert 0 (als Ganzzahl)\n",
    "0 and 'Foo'"
   ]
  },
  {
   "cell_type": "markdown",
   "metadata": {
    "slideshow": {
     "slide_type": "subslide"
    }
   },
   "source": [
    "### Konjunktion (Fortsetzung)\n",
    "\n",
    "Um unnötige Berechnungen zu vermeiden, wertet Python bei `and` den rechten Ausdruck überhaupt nur dann aus, wenn der linke Ausdruck als Wahrheitswert `True` ist. Dieses Verhalten nennt sich *short circuiting* und kann für Anfänger manchmal überraschende Ergebnisse liefern.\n",
    "\n",
    "Beispiel: "
   ]
  },
  {
   "cell_type": "code",
   "execution_count": 76,
   "metadata": {},
   "outputs": [
    {
     "name": "stdout",
     "output_type": "stream",
     "text": [
      "Ha! Jetzt konnten wir eine Abkürzung nehmen.\n"
     ]
    },
    {
     "data": {
      "text/plain": [
       "['foo']"
      ]
     },
     "execution_count": 76,
     "metadata": {},
     "output_type": "execute_result"
    }
   ],
   "source": [
    "# Ändere den Wert von a und beobachte, wie das Ergebnis variiert\n",
    "a = 0\n",
    "my_list = ['foo']\n",
    "\n",
    "if a and not my_list.append('bar'):\n",
    "    print('Leider kein short-circuiting möglich.')\n",
    "else:\n",
    "    print('Ha! Jetzt konnten wir eine Abkürzung nehmen.')\n",
    "\n",
    "my_list"
   ]
  },
  {
   "cell_type": "markdown",
   "metadata": {
    "slideshow": {
     "slide_type": "fragment"
    }
   },
   "source": [
    "☝️ Es ist kein guter Programmierstil, in `and`-Ausdrücken Variablenwerte zu verändern!"
   ]
  },
  {
   "cell_type": "markdown",
   "metadata": {
    "slideshow": {
     "slide_type": "subslide"
    }
   },
   "source": [
    "### Disjunktion\n",
    "\n",
    "Für die Disjunktion, also das *logische ODER*, steht uns konsequenterweise der `or`-Operator zur Verfügung. Er ist ebenfalls zweistellig und funktioniert analog zum `and`-Operator, d.h. er nutzt ebenfalls *short circuiting* bei der Auswertung von Ausdrücken."
   ]
  },
  {
   "cell_type": "code",
   "execution_count": 75,
   "metadata": {
    "scrolled": true
   },
   "outputs": [
    {
     "name": "stdout",
     "output_type": "stream",
     "text": [
      "Wahrheitstabelle or-Operator\n",
      "\n",
      "A       B       A or B\n",
      "=======================\n",
      "False   False   False   \n",
      "False   True    True    \n",
      "True    False   True    \n",
      "True    True    True    \n"
     ]
    }
   ],
   "source": [
    "print('Wahrheitstabelle or-Operator\\n')\n",
    "print('A       B       A or B')\n",
    "print('=======================')\n",
    "for a in range(2):\n",
    "    for b in range(2):\n",
    "        print(f'{str(bool(a)):<8}{str(bool(b)):<8}{str(bool(a or b)):<8}')"
   ]
  },
  {
   "cell_type": "markdown",
   "metadata": {
    "slideshow": {
     "slide_type": "subslide"
    }
   },
   "source": [
    "### Disjunktion (Fortsetzung)\n",
    "\n",
    "Die Wirkung des `or`-Operators ist der des `and`-Operators sehr ähnlich: Er liefert ebenfalls immer einen der beiden gegebenen Ausdrücke zurück - und dies *ohne* ihn in einen Wahrheitswert umzuwandeln.\n",
    "\n",
    "Dafür wird auch bei `or` zu erst der linke Ausdruck als Wahrheitswert ausgewertet:\n",
    "- Ist er `True`, dann wird der linke Wert zurückgegeben\n",
    "- Ist er `False`, dann wird der rechte Wert zurückgegeben"
   ]
  },
  {
   "cell_type": "code",
   "execution_count": 77,
   "metadata": {
    "slideshow": {
     "slide_type": "-"
    }
   },
   "outputs": [
    {
     "data": {
      "text/plain": [
       "1"
      ]
     },
     "execution_count": 77,
     "metadata": {},
     "output_type": "execute_result"
    }
   ],
   "source": [
    "# Liefert den linken Wert (eine Ganzzahl)\n",
    "1 or 'Foo'"
   ]
  },
  {
   "cell_type": "code",
   "execution_count": 78,
   "metadata": {
    "slideshow": {
     "slide_type": "-"
    }
   },
   "outputs": [
    {
     "data": {
      "text/plain": [
       "'Foo'"
      ]
     },
     "execution_count": 78,
     "metadata": {},
     "output_type": "execute_result"
    }
   ],
   "source": [
    "# Liefert den rechten Wert (eine Zeichenkette)\n",
    "0 or 'Foo'"
   ]
  },
  {
   "cell_type": "markdown",
   "metadata": {
    "slideshow": {
     "slide_type": "slide"
    }
   },
   "source": [
    "## Zusammengesetzte logische Ausdrücke\n",
    "\n",
    "Mit Hilfe der Negation, der Kunjunktion und der Disjunktion können wir zusammengesetzte Ausdrücke bilden. Wie auch in der formalen Logik ist die Priorität der drei Operatoren wie folgt definiert:\n",
    "1. Negation\n",
    "2. Konjuktion\n",
    "3. Disjunktion"
   ]
  },
  {
   "cell_type": "code",
   "execution_count": 23,
   "metadata": {},
   "outputs": [
    {
     "data": {
      "text/plain": [
       "2"
      ]
     },
     "execution_count": 23,
     "metadata": {},
     "output_type": "execute_result"
    }
   ],
   "source": [
    "42 % 2 == 0 and not 23 % 5 or 17 % 3"
   ]
  },
  {
   "cell_type": "markdown",
   "metadata": {
    "slideshow": {
     "slide_type": "fragment"
    }
   },
   "source": [
    "☝️ Benutze Klammern, um deinen Code lesbar zu machen. Ansonsten ist es schwierig, Ausdrücke wie den obigen schnell nachzuvollziehen."
   ]
  },
  {
   "cell_type": "markdown",
   "metadata": {
    "slideshow": {
     "slide_type": "subslide"
    }
   },
   "source": [
    "### Übung: Zusammengesetzte Wahrheitswerte\n",
    "\n",
    "Finde Werte für `a` und `b`, so dass der Ausdruck `True` wird."
   ]
  },
  {
   "cell_type": "code",
   "execution_count": null,
   "metadata": {
    "slideshow": {
     "slide_type": "-"
    }
   },
   "outputs": [],
   "source": [
    "a = 1\n",
    "b = 2\n",
    "\n",
    "not a == b and b % a == 0 and not (a or b == 1) or b == 0"
   ]
  },
  {
   "cell_type": "code",
   "execution_count": null,
   "metadata": {
    "slideshow": {
     "slide_type": "fragment"
    }
   },
   "outputs": [],
   "source": [
    "# Eine Lösung besteht darin, b = 0 zu setzen\n",
    "a = 1\n",
    "b = 0\n",
    "\n",
    "not a == b and b % a == 0 and not (a or b == 1) or b == 0"
   ]
  },
  {
   "cell_type": "markdown",
   "metadata": {
    "slideshow": {
     "slide_type": "slide"
    }
   },
   "source": [
    "## Weitere logische Operatoren\n",
    "\n",
    "Neben `not`, `and` und `or` stehen in Python erst einmal keine weiteren logische Operatoren zur Verfügung. Wie wir jedoch gelernt haben, können alle weiteren logischen Verknüpfungen mit den elementaren Operatoren `not`, `and` und `or` konstruiert werden.\n",
    "\n",
    "Nachfolgend sind die weiteren Verknüpfungen des exklusiven Oder (XOR), Nicht-Und (NAND), Nicht-Oder (NOR), die Implikation und die Äquivalenz implementiert."
   ]
  },
  {
   "cell_type": "markdown",
   "metadata": {
    "slideshow": {
     "slide_type": "subslide"
    }
   },
   "source": [
    "### Exklusives Oder (XOR)"
   ]
  },
  {
   "cell_type": "code",
   "execution_count": 36,
   "metadata": {
    "slideshow": {
     "slide_type": "-"
    }
   },
   "outputs": [
    {
     "name": "stdout",
     "output_type": "stream",
     "text": [
      "Wahrheitstabelle xor-Operator\n",
      "\n",
      "A       B       A xor B\n",
      "========================\n",
      "False   False   False   \n",
      "False   True    True    \n",
      "True    False   True    \n",
      "True    True    False   \n"
     ]
    }
   ],
   "source": [
    "def xor(expr_a, expr_b):\n",
    "    return bool(expr_a) != bool(expr_b)\n",
    "\n",
    "print('Wahrheitstabelle xor-Operator\\n')\n",
    "print('A       B       A xor B')\n",
    "print('========================')\n",
    "for a in range(2):\n",
    "    for b in range(2):\n",
    "        print(f'{str(bool(a)):<8}{str(bool(b)):<8}{str(xor(a, b)):<8}')"
   ]
  },
  {
   "cell_type": "markdown",
   "metadata": {
    "slideshow": {
     "slide_type": "subslide"
    }
   },
   "source": [
    "### Nicht Und (NAND)"
   ]
  },
  {
   "cell_type": "code",
   "execution_count": 38,
   "metadata": {
    "slideshow": {
     "slide_type": "-"
    }
   },
   "outputs": [
    {
     "name": "stdout",
     "output_type": "stream",
     "text": [
      "Wahrheitstabelle NAND-Operator\n",
      "\n",
      "A       B       A NAND B\n",
      "=========================\n",
      "False   False   True    \n",
      "False   True    True    \n",
      "True    False   True    \n",
      "True    True    False   \n"
     ]
    }
   ],
   "source": [
    "def nand(expr_a, expr_b):\n",
    "    return not (expr_a and expr_b)\n",
    "\n",
    "print('Wahrheitstabelle NAND-Operator\\n')\n",
    "print('A       B       A NAND B')\n",
    "print('=========================')\n",
    "for a in range(2):\n",
    "    for b in range(2):\n",
    "        print(f'{str(bool(a)):<8}{str(bool(b)):<8}{str(nand(a, b)):<8}')"
   ]
  },
  {
   "cell_type": "markdown",
   "metadata": {
    "slideshow": {
     "slide_type": "subslide"
    }
   },
   "source": [
    "### Nicht Oder (NOR)"
   ]
  },
  {
   "cell_type": "code",
   "execution_count": 39,
   "metadata": {
    "slideshow": {
     "slide_type": "-"
    }
   },
   "outputs": [
    {
     "name": "stdout",
     "output_type": "stream",
     "text": [
      "Wahrheitstabelle NAND-Operator\n",
      "\n",
      "A       B       A NOR B\n",
      "========================\n",
      "False   False   True    \n",
      "False   True    False   \n",
      "True    False   False   \n",
      "True    True    False   \n"
     ]
    }
   ],
   "source": [
    "def nor(expr_a, expr_b):\n",
    "    return not (expr_a or expr_b)\n",
    "\n",
    "print('Wahrheitstabelle NAND-Operator\\n')\n",
    "print('A       B       A NOR B')\n",
    "print('========================')\n",
    "for a in range(2):\n",
    "    for b in range(2):\n",
    "        print(f'{str(bool(a)):<8}{str(bool(b)):<8}{str(nor(a, b)):<8}')"
   ]
  },
  {
   "cell_type": "markdown",
   "metadata": {
    "slideshow": {
     "slide_type": "subslide"
    }
   },
   "source": [
    "### Implikation"
   ]
  },
  {
   "cell_type": "code",
   "execution_count": 42,
   "metadata": {
    "slideshow": {
     "slide_type": "-"
    }
   },
   "outputs": [
    {
     "name": "stdout",
     "output_type": "stream",
     "text": [
      "Wahrheitstabelle der Implikation\n",
      "\n",
      "A       B       A impl B\n",
      "=========================\n",
      "False   False   True    \n",
      "False   True    True    \n",
      "True    False   False   \n",
      "True    True    True    \n"
     ]
    }
   ],
   "source": [
    "def implikation(expr_a, expr_b):\n",
    "    return not expr_a or expr_b == True\n",
    "\n",
    "print('Wahrheitstabelle der Implikation\\n')\n",
    "print('A       B       A --> B')\n",
    "print('========================')\n",
    "for a in range(2):\n",
    "    for b in range(2):\n",
    "        print(f'{str(bool(a)):<8}{str(bool(b)):<8}{str(implikation(a, b)):<8}')"
   ]
  },
  {
   "cell_type": "markdown",
   "metadata": {
    "slideshow": {
     "slide_type": "subslide"
    }
   },
   "source": [
    "### Äquivalenz"
   ]
  },
  {
   "cell_type": "code",
   "execution_count": 43,
   "metadata": {
    "slideshow": {
     "slide_type": "-"
    }
   },
   "outputs": [
    {
     "name": "stdout",
     "output_type": "stream",
     "text": [
      "Wahrheitstabelle Äquivalenz\n",
      "\n",
      "A       B       A <-> B\n",
      "========================\n",
      "False   False   True    \n",
      "False   True    False   \n",
      "True    False   False   \n",
      "True    True    True    \n"
     ]
    }
   ],
   "source": [
    "def aequivalenz(expr_a, expr_b):\n",
    "    return bool(expr_a) == bool(expr_b)\n",
    "\n",
    "print('Wahrheitstabelle Äquivalenz\\n')\n",
    "print('A       B       A <-> B')\n",
    "print('========================')\n",
    "for a in range(2):\n",
    "    for b in range(2):\n",
    "        print(f'{str(bool(a)):<8}{str(bool(b)):<8}{str(aequivalenz(a, b)):<8}')"
   ]
  },
  {
   "cell_type": "markdown",
   "metadata": {
    "slideshow": {
     "slide_type": "slide"
    }
   },
   "source": [
    "## Quellen\n",
    "\n",
    "- [Boolesche Operatoren und ihre Priorität in Python](https://docs.python.org/3/library/stdtypes.html#boolean-operations-and-or-not)\n",
    "- [Auswertungsreihenfolge aller Python Operatoren](https://docs.python.org/3/reference/expressions.html#operator-precedence)"
   ]
  }
 ],
 "metadata": {
  "celltoolbar": "Slideshow",
  "kernelspec": {
   "display_name": "Python 3 (ipykernel)",
   "language": "python",
   "name": "python3"
  },
  "language_info": {
   "codemirror_mode": {
    "name": "ipython",
    "version": 3
   },
   "file_extension": ".py",
   "mimetype": "text/x-python",
   "name": "python",
   "nbconvert_exporter": "python",
   "pygments_lexer": "ipython3",
   "version": "3.10.2"
  },
  "vscode": {
   "interpreter": {
    "hash": "bcdf71e75ce9eb439c8dab65b6562436d6be942ab752301800db312e7bf3978b"
   }
  }
 },
 "nbformat": 4,
 "nbformat_minor": 2
}
